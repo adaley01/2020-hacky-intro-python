{
 "cells": [
  {
   "cell_type": "markdown",
   "metadata": {},
   "source": [
    "\n",
    "# Programming with Python\n",
    "\n",
    "## Episode 6 - Creating Functions\n",
    "\n",
    "Teaching: 30 min, \n",
    "Exercises: 30 min\n",
    "\n",
    "\n",
    "*How can I define new functions? What's the difference between defining and calling a function? What happens when I call a function?*"
   ]
  },
  {
   "cell_type": "markdown",
   "metadata": {},
   "source": [
    "## Objectives\n",
    "\n",
    "- Define a function that takes parameters.\n",
    "- Return a value from a function.\n",
    "- Test and debug a function.\n",
    "- Set default values for function parameters.\n",
    "- Explain why we should divide programs into small, single-purpose functions."
   ]
  },
  {
   "cell_type": "markdown",
   "metadata": {},
   "source": [
    "## Functions\n",
    "\n",
    "At this point, we've written code to draw some interesting features in our inflammation data, loop over all our data files to quickly draw these plots for each of them, and have Python make decisions based on what it sees in our data. But, our code is getting pretty long and complicated; what if we had thousands of datasets, and didn't want to generate a figure for every single one? Commenting out the figure-drawing code is a nuisance. Also, what if we want to use that code again, on a different dataset or at a different point in our program? Cutting and pasting it is going to make our code get very long and very repetitive, very quickly. \n",
    "\n",
    "We'd like a way to package our code so that it is easier to reuse, and Python provides for this by letting us define things called *functions* — a shorthand way of re-executing longer pieces of code.\n",
    "\n",
    "Let's start by defining a function `fahr_to_celsius` that converts temperatures from Fahrenheit to Celsius:\n",
    "```\n",
    "def fahr_to_celsius(temp):\n",
    "    return ((temp - 32) * (5/9))\n",
    "```"
   ]
  },
  {
   "cell_type": "code",
   "execution_count": 9,
   "metadata": {},
   "outputs": [
    {
     "name": "stdout",
     "output_type": "stream",
     "text": [
      "<function fahr_to_celsius at 0x7fce605b3050>\n"
     ]
    }
   ],
   "source": [
    "def fahr_to_celsius(temp):\n",
    "    return ((temp - 32) * (5/9))\n",
    "#Could change to an int by changing to -  return(int((temp - 32)  * (5/9)))\n",
    "print(fahr_to_celsius)"
   ]
  },
  {
   "cell_type": "markdown",
   "metadata": {},
   "source": [
    "### The Blueprint for a Python Function\n",
    "\n",
    "The function definition opens with the keyword def followed by the name of the function (fahr_to_celsius) and a parenthesised list of parameter names (temp). The body of the function — the statements that are executed when it runs — is indented below the definition line. The body concludes with a return keyword followed by the return value.\n",
    "\n",
    "When we call the function, the values we pass to it are assigned to those variables so that we can use them inside the function. Inside the function, we use a return statement to send a result back to whoever asked for it.\n",
    "\n",
    "Let's try running our function.\n",
    "```\n",
    "fahr_to_celsius(32)\n",
    "```"
   ]
  },
  {
   "cell_type": "code",
   "execution_count": 10,
   "metadata": {},
   "outputs": [
    {
     "data": {
      "text/plain": [
       "0.0"
      ]
     },
     "execution_count": 10,
     "metadata": {},
     "output_type": "execute_result"
    }
   ],
   "source": [
    "fahr_to_celsius(32)"
   ]
  },
  {
   "cell_type": "code",
   "execution_count": 13,
   "metadata": {},
   "outputs": [
    {
     "data": {
      "text/plain": [
       "-12.222222222222223"
      ]
     },
     "execution_count": 13,
     "metadata": {},
     "output_type": "execute_result"
    }
   ],
   "source": [
    "fahr_to_celsius(10)"
   ]
  },
  {
   "cell_type": "markdown",
   "metadata": {},
   "source": [
    "This command called our function, using \"32\" as the input and return the function value.\n",
    "\n",
    "In fact, calling our own function is no different from calling any other function:\n",
    "```\n",
    "print('freezing point of water:', fahr_to_celsius(32), 'C')\n",
    "print('boiling point of water:', fahr_to_celsius(212), 'C')\n",
    "```"
   ]
  },
  {
   "cell_type": "code",
   "execution_count": 11,
   "metadata": {},
   "outputs": [
    {
     "name": "stdout",
     "output_type": "stream",
     "text": [
      "freezing point of water: 0.0 C\n"
     ]
    }
   ],
   "source": [
    "print('freezing point of water:', fahr_to_celsius(32), 'C')"
   ]
  },
  {
   "cell_type": "code",
   "execution_count": 12,
   "metadata": {},
   "outputs": [
    {
     "name": "stdout",
     "output_type": "stream",
     "text": [
      "boiling point of water: 100.0 C\n"
     ]
    }
   ],
   "source": [
    "print('boiling point of water:', fahr_to_celsius(212), 'C')"
   ]
  },
  {
   "cell_type": "markdown",
   "metadata": {},
   "source": [
    "### Composing Functions\n",
    "Now that we've seen how to turn Fahrenheit into Celsius, we can also write the function to turn Celsius into Kelvin:\n",
    "```\n",
    "def celsius_to_kelvin(temp_c):\n",
    "    return temp_c + 273.15\n",
    "```"
   ]
  },
  {
   "cell_type": "code",
   "execution_count": 15,
   "metadata": {},
   "outputs": [],
   "source": [
    "def celsius_to_kelvin(temp_c):\n",
    "    return temp_c + 273.15"
   ]
  },
  {
   "cell_type": "markdown",
   "metadata": {},
   "source": [
    "and now call it:\n",
    "```\n",
    "print('freezing point of water in Kelvin:', celsius_to_kelvin(0))\n",
    "```"
   ]
  },
  {
   "cell_type": "code",
   "execution_count": 16,
   "metadata": {},
   "outputs": [
    {
     "name": "stdout",
     "output_type": "stream",
     "text": [
      "freezing point of water in Kelvin: 273.15\n"
     ]
    }
   ],
   "source": [
    "print('freezing point of water in Kelvin:', celsius_to_kelvin(0))"
   ]
  },
  {
   "cell_type": "markdown",
   "metadata": {},
   "source": [
    "What about converting Fahrenheit to Kelvin? We could write out the formula, but we don't need to. Instead, we can compose the two functions we have already created:\n",
    "```\n",
    "def fahr_to_kelvin(temp_f):\n",
    "    temp_c = fahr_to_celsius(temp_f)\n",
    "    temp_k = celsius_to_kelvin(temp_c)\n",
    "    return temp_k\n",
    "```"
   ]
  },
  {
   "cell_type": "code",
   "execution_count": 21,
   "metadata": {},
   "outputs": [],
   "source": [
    "def fahr_to_kelvin(temp_f):\n",
    "    temp_c = fahr_to_celsius(temp_f)\n",
    "    temp_k = celsius_to_kelvin(temp_c)\n",
    "    return temp_k"
   ]
  },
  {
   "cell_type": "markdown",
   "metadata": {},
   "source": [
    "```\n",
    "print('boiling point of water in Kelvin:', fahr_to_kelvin(212.0))\n",
    "```"
   ]
  },
  {
   "cell_type": "markdown",
   "metadata": {},
   "source": [
    "See if you can now convert the freezing point of water in Fahrenheit (32 degrees) to degrees Kelvin:"
   ]
  },
  {
   "cell_type": "code",
   "execution_count": 20,
   "metadata": {},
   "outputs": [
    {
     "name": "stdout",
     "output_type": "stream",
     "text": [
      "freezing point in farenheit: 273.15\n"
     ]
    }
   ],
   "source": [
    "print('freezing point in farenheit:', fahr_to_kelvin(32))"
   ]
  },
  {
   "cell_type": "markdown",
   "metadata": {},
   "source": [
    "This is our first taste of how larger programs are built: we define basic operations, then combine them in ever-larger chunks to get the effect we want. Real-life functions will usually be larger than the ones shown here — typically half a dozen to a few dozen lines — but they shouldn't ever be much longer than that, or the next person who reads it won't be able to understand what's going on."
   ]
  },
  {
   "cell_type": "markdown",
   "metadata": {},
   "source": [
    "### Tidying up\n",
    "Now that we know how to wrap bits of code up in functions, we can make our inflammation analysis easier to read and easier to reuse. First, let's make an `analyse` function that generates our plots:\n",
    "```\n",
    "def analyse(filename):\n",
    "\n",
    "    data = numpy.loadtxt(fname=filename, delimiter=',')\n",
    "\n",
    "    fig = matplotlib.pyplot.figure(figsize=(10.0, 3.0))\n",
    "\n",
    "    axes1 = fig.add_subplot(1, 3, 1)\n",
    "    axes2 = fig.add_subplot(1, 3, 2)\n",
    "    axes3 = fig.add_subplot(1, 3, 3)\n",
    "\n",
    "    axes1.set_ylabel('average')\n",
    "    axes1.plot(numpy.mean(data, axis=0))\n",
    "\n",
    "    axes2.set_ylabel('max')\n",
    "    axes2.plot(numpy.max(data, axis=0))\n",
    "\n",
    "    axes3.set_ylabel('min')\n",
    "    axes3.plot(numpy.min(data, axis=0))\n",
    "\n",
    "    fig.tight_layout()\n",
    "    matplotlib.pyplot.show()\n",
    "```"
   ]
  },
  {
   "cell_type": "code",
   "execution_count": 4,
   "metadata": {},
   "outputs": [],
   "source": [
    "def analyse(filename):\n",
    "\n",
    "    data = numpy.loadtxt(fname=filename, delimiter=',')\n",
    "\n",
    "    fig = matplotlib.pyplot.figure(figsize=(10.0, 3.0))\n",
    "\n",
    "    axes1 = fig.add_subplot(1, 3, 1)\n",
    "    axes2 = fig.add_subplot(1, 3, 2)\n",
    "    axes3 = fig.add_subplot(1, 3, 3)\n",
    "\n",
    "    axes1.set_ylabel('average')\n",
    "    axes1.plot(numpy.mean(data, axis=0))\n",
    "\n",
    "    axes2.set_ylabel('max')\n",
    "    axes2.plot(numpy.max(data, axis=0))\n",
    "\n",
    "    axes3.set_ylabel('min')\n",
    "    axes3.plot(numpy.min(data, axis=0))\n",
    "\n",
    "    fig.tight_layout()\n",
    "    matplotlib.pyplot.show()"
   ]
  },
  {
   "cell_type": "markdown",
   "metadata": {},
   "source": [
    "and another function called `detect_problems` that checks for those systematic problems we noticed:\n",
    "```\n",
    "import numpy\n",
    "import matplotlib.plt\n",
    "\n",
    "def detect_problems(filename):\n",
    "\n",
    "    data = numpy.loadtxt(fname=filename, delimiter=',')\n",
    "\n",
    "    if numpy.max(data, axis=0)[0] == 0 and numpy.max(data, axis=0)[20] == 20:\n",
    "        print('Suspicious looking maxima!')\n",
    "    elif numpy.sum(numpy.min(data, axis=0)) == 0:\n",
    "        print('Minima add up to zero!')\n",
    "    else:\n",
    "        print('Seems OK!')\n",
    "        "
   ]
  },
  {
   "cell_type": "code",
   "execution_count": 1,
   "metadata": {},
   "outputs": [],
   "source": [
    "import numpy\n",
    "import matplotlib.pyplot\n",
    "\n",
    "def detect_problems(filename):\n",
    "\n",
    "    data = numpy.loadtxt(fname=filename, delimiter=',')\n",
    "\n",
    "    if numpy.max(data, axis=0)[0] == 0 and numpy.max(data, axis=0)[20] == 20:\n",
    "        print('Suspicious looking maxima!')\n",
    "    elif numpy.sum(numpy.min(data, axis=0)) == 0:\n",
    "        print('Minima add up to zero!')\n",
    "    else:\n",
    "        print('Seems OK!')"
   ]
  },
  {
   "cell_type": "markdown",
   "metadata": {},
   "source": [
    "and now let test our functions:\n",
    "```\n",
    "analyse('data/inflammation-01.csv')\n",
    "detect_problems('data/inflammation-01.csv')\n",
    "```"
   ]
  },
  {
   "cell_type": "code",
   "execution_count": 5,
   "metadata": {},
   "outputs": [
    {
     "data": {
      "image/png": "[encoded data removed]",
      "text/plain": [
       "<Figure size 720x216 with 3 Axes>"
      ]
     },
     "metadata": {
      "needs_background": "light"
     },
     "output_type": "display_data"
    },
    {
     "name": "stdout",
     "output_type": "stream",
     "text": [
      "Suspicious looking maxima!\n"
     ]
    }
   ],
   "source": [
    "analyse('data/inflammation-01.csv')\n",
    "detect_problems('data/inflammation-01.csv')"
   ]
  },
  {
   "cell_type": "markdown",
   "metadata": {},
   "source": [
    "Now, rather than jumbling this code together in one giant for loop, we can now read and reuse both chunks separately. We can reproduce the previous analysis with a much simpler for loop:\n",
    "```\n",
    "import glob\n",
    "\n",
    "filenames = sorted(glob.glob('data/inflammation*.csv'))\n",
    "\n",
    "for f in filenames[:3]:\n",
    "    print(f)\n",
    "    analyse(f)\n",
    "    detect_problems(f)\n",
    "```"
   ]
  },
  {
   "cell_type": "code",
   "execution_count": null,
   "metadata": {},
   "outputs": [],
   "source": [
    "import glob\n",
    "\n",
    "filenames = sorted(glob.glob('data/inflammation*.csv'))\n",
    "\n",
    "for f in filenames[:3]:\n",
    "    print(f)\n",
    "    analyse(f)\n",
    "    detect_problems(f)\n"
   ]
  },
  {
   "cell_type": "markdown",
   "metadata": {},
   "source": [
    "By giving our functions human-readable names, we can more easily read and understand what is happening in the for loop. Even better, if at some later date we want to use either of those pieces of code again, we can do so in a single line."
   ]
  },
  {
   "cell_type": "markdown",
   "metadata": {},
   "source": [
    "### Testing and Documenting\n",
    "Once we start putting things in functions so that we can re-use them, we need to start testing that those functions are working correctly. To see how to do this, let's write a function to offset a dataset so that it's mean value shifts to a user-defined value:\n",
    "```\n",
    "def offset_mean(data, target_mean_value):\n",
    "    return (data - numpy.mean(data)) + target_mean_value\n",
    "```"
   ]
  },
  {
   "cell_type": "code",
   "execution_count": null,
   "metadata": {},
   "outputs": [],
   "source": [
    "def offset_mean(data, target_mean_value):\n",
    "    return (data - numpy.mean(data)) + target_mean_value"
   ]
  },
  {
   "cell_type": "markdown",
   "metadata": {},
   "source": [
    "We could test this on our actual data, but since we don't know what the values ought to be, it will be hard to tell if the result was correct. Instead, let's use NumPy to create a matrix of 0's and then offset its values to have a mean value of 3:\n",
    "```\n",
    "z = numpy.zeros((2,2))\n",
    "print(offset_mean(z, 3))\n",
    "```"
   ]
  },
  {
   "cell_type": "code",
   "execution_count": null,
   "metadata": {},
   "outputs": [],
   "source": [
    "z = numpy.zeros((2,2))\n",
    "print(offset_mean(z, 3))"
   ]
  },
  {
   "cell_type": "markdown",
   "metadata": {},
   "source": [
    "That looks right, so let's try offset_mean on our real data:\n",
    "```\n",
    "data = numpy.loadtxt(fname='data/inflammation-01.csv', delimiter=',')\n",
    "print(offset_mean(data, 0))\n",
    "```"
   ]
  },
  {
   "cell_type": "code",
   "execution_count": null,
   "metadata": {},
   "outputs": [],
   "source": [
    "data = numpy.loadtxt(fname='data/inflammation-01.csv', delimiter=',')\n",
    "print(offset_mean(data, 0))"
   ]
  },
  {
   "cell_type": "markdown",
   "metadata": {},
   "source": [
    "It's hard to tell from the default output whether the result is correct, but there are a few simple tests that will reassure us:\n",
    "```\n",
    "print('original min, mean, and max are:', \n",
    "      numpy.min(data), \n",
    "      numpy.mean(data), \n",
    "      numpy.max(data))\n",
    "\n",
    "offset_data = offset_mean(data, 0)\n",
    "print('offset   min, mean, and max are:',\n",
    "      numpy.min(offset_data),\n",
    "      numpy.mean(offset_data),\n",
    "      numpy.max(offset_data))\n",
    "```"
   ]
  },
  {
   "cell_type": "code",
   "execution_count": null,
   "metadata": {},
   "outputs": [],
   "source": [
    "print('original min, mean, and max are:', \n",
    "      numpy.min(data), \n",
    "      numpy.mean(data), \n",
    "      numpy.max(data))\n",
    "\n",
    "offset_data = offset_mean(data, 0)\n",
    "print('offset   min, mean, and max are:',\n",
    "      numpy.min(offset_data),\n",
    "      numpy.mean(offset_data),\n",
    "      numpy.max(offset_data))"
   ]
  },
  {
   "cell_type": "markdown",
   "metadata": {},
   "source": [
    "That seems almost right: the original mean was about 6.1, so the lower bound from zero is now about -6.1. The mean of the offset data isn't quite zero — we'll explore why not in the challenges — but it's pretty close. \n",
    "\n",
    "Let just see what that looks like on a plot:\n",
    "```\n",
    "plot = matplotlib.pyplot.plot(numpy.mean(data, axis=0))\n",
    "plot = matplotlib.pyplot.plot(numpy.mean(offset_data, axis=0))\n",
    "```"
   ]
  },
  {
   "cell_type": "code",
   "execution_count": null,
   "metadata": {},
   "outputs": [],
   "source": [
    "plot = matplotlib.pyplot.plot(numpy.mean(data, axis=0))\n",
    "plot = matplotlib.pyplot.plot(numpy.mean(offset_data, axis=0))\n"
   ]
  },
  {
   "cell_type": "markdown",
   "metadata": {},
   "source": [
    "We can even go further and check that the standard deviation hasn't changed:\n",
    "```\n",
    "print('std dev before and after:', numpy.std(data), numpy.std(offset_data))\n",
    "```"
   ]
  },
  {
   "cell_type": "code",
   "execution_count": null,
   "metadata": {},
   "outputs": [],
   "source": []
  },
  {
   "cell_type": "markdown",
   "metadata": {},
   "source": [
    "Those values look the same, but we probably wouldn't notice if they were different in the sixth decimal place. Let's do this instead:\n",
    "```\n",
    "print('difference in standard deviations before and after:',\n",
    "      numpy.std(data) - numpy.std(offset_data))\n",
    "```"
   ]
  },
  {
   "cell_type": "code",
   "execution_count": null,
   "metadata": {},
   "outputs": [],
   "source": []
  },
  {
   "cell_type": "markdown",
   "metadata": {},
   "source": [
    "Again, the difference is very small. It's still possible that our function is wrong, but it seems unlikely enough that we should probably get back to doing our analysis. "
   ]
  },
  {
   "cell_type": "markdown",
   "metadata": {},
   "source": [
    "### Document\n",
    "We have one more task first, though: we should write some documentation for our function to remind ourselves later what it's for and how to use it.\n",
    "\n",
    "The usual way to put documentation in software is to add comments like this:\n",
    "```\n",
    "# offset_mean(data, target_mean_value):\n",
    "# return a new array containing the original data with its mean offset to match the desired value.\n",
    "def offset_mean(data, target_mean_value):\n",
    "    return (data - numpy.mean(data)) + target_mean_value\n",
    "```\n",
    "\n",
    "There's a better way, though. If the first thing in a function is a string that isn't assigned to a variable, that string is attached to the function as its documentation:\n",
    "\n",
    "```\n",
    "def offset_mean(data, target_mean_value):\n",
    "    '''Return a new array containing the original data\n",
    "       with its mean offset to match the desired value.'''\n",
    "    return (data - numpy.mean(data)) + target_mean_value\n",
    "```"
   ]
  },
  {
   "cell_type": "code",
   "execution_count": null,
   "metadata": {},
   "outputs": [],
   "source": [
    "def offset_mean(data, target_mean_value):\n",
    "    '''Return a new array containing the original data\n",
    "       with its mean offset to match the desired value.\n",
    "       Example: offset_mean([1, 2, 3], 0) => [-1, 0, 1]'''\n",
    "    return (data - numpy.mean(data)) + target_mean_value"
   ]
  },
  {
   "cell_type": "markdown",
   "metadata": {},
   "source": [
    "This is better because we can now ask Python's built-in help system to show us the documentation for the function:\n",
    "```\n",
    "help(offset_mean)\n",
    "```"
   ]
  },
  {
   "cell_type": "code",
   "execution_count": null,
   "metadata": {},
   "outputs": [],
   "source": [
    "help(offset_mean)"
   ]
  },
  {
   "cell_type": "markdown",
   "metadata": {},
   "source": [
    "### Defining Defaults\n",
    "We have passed parameters to functions in two ways: directly, as in \n",
    "`type(`**`data`**`)`, \n",
    "and by name, as in \n",
    "`numpy.loadtxt(` ** `fname='something.csv'` **`, delimiter=',')`. \n",
    "\n",
    "In fact, we can pass the filename to loadtxt without the `fname=`:\n",
    "```\n",
    "numpy.loadtxt('data/inflammation-01.csv', delimiter=',')\n",
    "```"
   ]
  },
  {
   "cell_type": "code",
   "execution_count": null,
   "metadata": {},
   "outputs": [],
   "source": [
    "numpy.loadtxt('data/inflammation-01.csv', delimiter=',')"
   ]
  },
  {
   "cell_type": "markdown",
   "metadata": {},
   "source": [
    "but we still need to say delimiter=:\n",
    "```\n",
    "numpy.loadtxt('data/inflammation-01.csv', ',')\n",
    "```"
   ]
  },
  {
   "cell_type": "code",
   "execution_count": null,
   "metadata": {},
   "outputs": [],
   "source": []
  },
  {
   "cell_type": "markdown",
   "metadata": {},
   "source": [
    "To understand what's going on, and make our own functions easier to use, let's re-define our offset_mean function like this:\n",
    "```\n",
    "def offset_mean(data, target_mean_value=0.0):\n",
    "    '''Return a new array containing the original data with its mean offset to match the\n",
    "       desired value (0 by default).\n",
    "    Example: offset_mean([1, 2, 3], 0) => [-1, 0, 1]'''\n",
    "    return (data - numpy.mean(data)) + target_mean_value\n",
    "```"
   ]
  },
  {
   "cell_type": "code",
   "execution_count": null,
   "metadata": {},
   "outputs": [],
   "source": [
    "def offset_mean(data, target_mean_value=0.0):\n",
    "    '''Return a new array containing the original data with its mean offset to match the\n",
    "       desired value (0 by default).\n",
    "    Example: offset_mean([1, 2, 3], 0) => [-1, 0, 1]'''\n",
    "    return (data - numpy.mean(data)) + target_mean_value"
   ]
  },
  {
   "cell_type": "markdown",
   "metadata": {},
   "source": [
    "The key change is that the second parameter is now written `target_mean_value=0.0` instead of just `target_mean_value`. If we call the function with two arguments, it works as it did before:\n",
    "```\n",
    "test_data = numpy.zeros( (2,2) )\n",
    "print(offset_mean(test_data, 3))\n",
    "```"
   ]
  },
  {
   "cell_type": "code",
   "execution_count": null,
   "metadata": {},
   "outputs": [],
   "source": []
  },
  {
   "cell_type": "markdown",
   "metadata": {},
   "source": [
    "But we can also now call it with just a single parameter, in which case `target_mean_value` is automatically assigned the default value of `0.0`:\n",
    "```\n",
    "more_data = 5 + numpy.zeros((2, 2))\n",
    "print('data before mean offset:')\n",
    "print(more_data)\n",
    "print('offset data:')\n",
    "print(offset_mean(more_data))\n",
    "```"
   ]
  },
  {
   "cell_type": "code",
   "execution_count": null,
   "metadata": {},
   "outputs": [],
   "source": []
  },
  {
   "cell_type": "markdown",
   "metadata": {},
   "source": [
    "This is handy: if we usually want a function to work one way, but occasionally need it to do something else, we can allow people to pass a parameter when they need to but provide a default to make the normal case easier. The example below shows how Python matches values to parameters:\n",
    "```\n",
    "def display(a=1, b=2, c=3):\n",
    "    print('a:', a, 'b:', b, 'c:', c)\n",
    "\n",
    "print('display() - no parameters:')\n",
    "display()\n",
    "print('display(55) - one parameter:')\n",
    "display(55)\n",
    "print('display(55, 66) - two parameters:')\n",
    "display(55, 66)\n",
    "```"
   ]
  },
  {
   "cell_type": "code",
   "execution_count": null,
   "metadata": {},
   "outputs": [],
   "source": []
  },
  {
   "cell_type": "markdown",
   "metadata": {},
   "source": [
    "As this example shows, parameters are matched up from left to right, and any that haven't been given a value explicitly get their default value. We can override this behaviour by naming the value as we pass it in:\n",
    "```\n",
    "print('display(c=77) - only setting the value of c:')\n",
    "display(c=77)\n",
    "```"
   ]
  },
  {
   "cell_type": "code",
   "execution_count": null,
   "metadata": {},
   "outputs": [],
   "source": []
  },
  {
   "cell_type": "markdown",
   "metadata": {},
   "source": [
    "With that in understanding, let's look at the help for numpy.loadtxt:\n",
    "```\n",
    "help(numpy.loadtxt)\n",
    "```"
   ]
  },
  {
   "cell_type": "code",
   "execution_count": null,
   "metadata": {},
   "outputs": [],
   "source": []
  },
  {
   "cell_type": "markdown",
   "metadata": {},
   "source": [
    "There's a lot of information here, but the most important part is the first couple of lines:\n",
    "\n",
    "*```\n",
    "loadtxt(fname, dtype=<class 'float'>, comments='#', delimiter=None, converters=None, skiprows=0, use\n",
    "cols=None, unpack=False, ndmin=0, encoding='bytes')\n",
    "```*\n"
   ]
  },
  {
   "cell_type": "markdown",
   "metadata": {},
   "source": [
    "This tells us that `loadtxt` has one parameter called `fname` that doesn't have a default value, and eight others that do. \n",
    "\n",
    "If we call the function like this:\n",
    "```\n",
    "numpy.loadtxt('inflammation-01.csv', ',')\n",
    "```\n",
    "then the filename is assigned to `fname` - the first parameter (which is what we want), \n",
    "and the string `','` is assigned to `dtype` - the second parameter (which is **not** what we want).\n",
    "\n",
    "Moreover, because `','` isn't a known `dtype`, so our code produces an error message when we try to run it. \n",
    "\n",
    "So if we want the `','` to be assigned to the parameter `delimiter`, we have to explicitly specify `delimiter=`.\n",
    "\n",
    "So, if we wanted we could also specify the `fname` parameter out of order:\n",
    "```\n",
    "numpy.loadtxt(delim=',', fname='inflammation-01.csv')\n",
    "```\n"
   ]
  },
  {
   "cell_type": "code",
   "execution_count": null,
   "metadata": {},
   "outputs": [],
   "source": []
  },
  {
   "cell_type": "markdown",
   "metadata": {},
   "source": [
    "### Readable functions\n",
    "\n",
    "Consider these two functions Σ:\n",
    "```\n",
    "def s(p):\n",
    "    a = 0\n",
    "    for v in p:\n",
    "        a += v\n",
    "    m = a / len(p)\n",
    "    d = 0\n",
    "    for v in p:\n",
    "        d += (v - m) * (v - m)\n",
    "    return numpy.sqrt(d / (len(p) - 1))\n",
    "\n",
    "def std_dev(sample):\n",
    "    sample_sum = 0\n",
    "    for value in sample:\n",
    "        sample_sum += value\n",
    "\n",
    "    sample_mean = sample_sum / len(sample)\n",
    "\n",
    "    sum_squared_devs = 0\n",
    "    for value in sample:\n",
    "        sum_squared_devs += (value - sample_mean) * (value - sample_mean)\n",
    "\n",
    "    return numpy.sqrt(sum_squared_devs / (len(sample) - 1))\n",
    "```"
   ]
  },
  {
   "cell_type": "markdown",
   "metadata": {},
   "source": [
    "The functions `s` and `std_dev` are computationally equivalent (they both calculate `sample`'s standard deviation), but to a human reader, they look very different. You probably found `std_dev` much easier to read and understand than `s`."
   ]
  },
  {
   "cell_type": "markdown",
   "metadata": {},
   "source": [
    "As this example illustrates, both documentation and a programmer's coding style combine to determine how easy it is for others to read and understand the programmer's code. Choosing meaningful variable names and using blank spaces to break the code into logical \"chunks\" are helpful techniques for producing readable code. This is useful not only for sharing code with others, but also for the original programmer. If you need to revisit code that you wrote months ago and haven't thought about since then, you will appreciate the value of readable code!"
   ]
  },
  {
   "cell_type": "markdown",
   "metadata": {},
   "source": [
    "## Exercises"
   ]
  },
  {
   "cell_type": "markdown",
   "metadata": {},
   "source": [
    "### Combining Strings\n",
    "*Adding* two strings produces their concatenation: `a` + `b` is `ab`.\n",
    "\n",
    "Write a function called fence that takes two parameters called original and wrapper and returns a new string that has the wrapper character at the beginning and end of the original. A call to your function should look like this:\n",
    "```\n",
    "print(fence('some text', '|'))\n",
    "```\n",
    "should produce:\n",
    "```\n",
    "|some text|\n",
    "```"
   ]
  },
  {
   "cell_type": "code",
   "execution_count": null,
   "metadata": {},
   "outputs": [],
   "source": []
  },
  {
   "cell_type": "markdown",
   "metadata": {},
   "source": [
    "### `return` versus `print`\n",
    "Note that `return` and `print` are not interchangeable. \n",
    "`print` is a Python function that prints data to the screen. \n",
    "It enables us, users, see the data. \n",
    "`return` , on the other hand, makes data available to the calling program. \n",
    "\n",
    "Let's have a look at the following function:\n",
    "```\n",
    "def add(a, b):\n",
    "    print(a + b)\n",
    "```\n",
    "\n",
    "Question: What will we see if we execute the following commands?\n",
    "```\n",
    "A = add(7, 3)\n",
    "print(A)\n",
    "```"
   ]
  },
  {
   "cell_type": "markdown",
   "metadata": {},
   "source": []
  },
  {
   "cell_type": "markdown",
   "metadata": {},
   "source": [
    "### Selecting Characters From Strings\n",
    "\n",
    "If the variable `s` refers to a string, then `s[0]` is the string's first character and `s[-1]` is its last. \n",
    "Write a function called `outer` that returns a string made up of just the first and last characters of its input. \n",
    "\n",
    "A call to your function should look like this:\n",
    "```\n",
    "print(outer('helium'))\n",
    "```\n",
    "and produce:\n",
    "```\n",
    "hm\n",
    "```"
   ]
  },
  {
   "cell_type": "code",
   "execution_count": null,
   "metadata": {},
   "outputs": [],
   "source": []
  },
  {
   "cell_type": "markdown",
   "metadata": {},
   "source": [
    "### Rescaling an Array\n",
    "\n",
    "Write a function `rescale` that takes an array as input and returns a corresponding array of values that are scaled to lie in the range 0.0 to 1.0. \n",
    "\n",
    "Hint: If L and H are the lowest and highest values in an array A, then the *rescaled* array would be *(A-L) / (H-L)*."
   ]
  },
  {
   "cell_type": "code",
   "execution_count": null,
   "metadata": {},
   "outputs": [],
   "source": []
  },
  {
   "cell_type": "markdown",
   "metadata": {},
   "source": [
    "### Testing and Documenting Your Function\n",
    "Run the commands `help(numpy.arange)` and `help(numpy.linspace)` to see how to use these functions to generate regularly-spaced values, then use those values to test your rescale function. Once you've successfully tested your function, add a docstring that explains what it does.\n",
    "\n",
    "Then make sure you can explain the following examples:\n",
    "```\n",
    "rescale(numpy.arange(10.0))\n",
    "rescale(numpy.linspace(0, 100, 5))\n",
    "```"
   ]
  },
  {
   "cell_type": "code",
   "execution_count": null,
   "metadata": {},
   "outputs": [],
   "source": []
  },
  {
   "cell_type": "markdown",
   "metadata": {},
   "source": [
    "### Defining Defaults\n",
    "Rewrite the `rescale` function so that it scales data to lie between 0.0 and 1.0 by default, but will allow the caller to specify lower and upper bounds if they want. Compare your implementation to your neighbour's: do the two functions always behave the same way?"
   ]
  },
  {
   "cell_type": "markdown",
   "metadata": {},
   "source": [
    "Here's a starting point:\n",
    "````\n",
    "def rescale(input_array, min=0.0, max=1.0):\n",
    "    '''rescales input array values to lie between low_val and high_val'''\n",
    "    \n",
    "    # find upper and lower bounds\n",
    "    L = numpy.min(input_array)\n",
    "    H = numpy.max(input_array)\n",
    "    \n",
    "    # rescale to value between 0 and 1\n",
    "    intermed_array = (input_array - L) / (H - L)\n",
    "    \n",
    "    # rescale again to from between 0 & 1 to between min & max (scale factor: max-min, offset: min)\n",
    "    output_array = \n",
    "    return output_array\n",
    "```"
   ]
  },
  {
   "cell_type": "code",
   "execution_count": null,
   "metadata": {},
   "outputs": [],
   "source": []
  },
  {
   "cell_type": "markdown",
   "metadata": {},
   "source": [
    "### Variables Inside and Outside Functions\n",
    "What does the following piece of code display when run — and why?\n",
    "```\n",
    "f = 0\n",
    "c = 0\n",
    "\n",
    "def f2c(f):\n",
    "    c = (f-32)*(5.0/9.0)\n",
    "    return c\n",
    "\n",
    "f2c(8)\n",
    "f2c(41)\n",
    "f2c(32)\n",
    "\n",
    "print(c)\n",
    "```"
   ]
  },
  {
   "cell_type": "code",
   "execution_count": null,
   "metadata": {},
   "outputs": [],
   "source": []
  },
  {
   "cell_type": "markdown",
   "metadata": {},
   "source": [
    "Why: "
   ]
  },
  {
   "cell_type": "markdown",
   "metadata": {},
   "source": [
    "### Mixing Default and Non-Default Parameters\n",
    "\n",
    "Given the following code:\n",
    "```\n",
    "def numbers(one, two=2, three, four=4):\n",
    "    n = str(one) + str(two) + str(three) + str(four)\n",
    "    return n\n",
    "\n",
    "print(numbers(1, three=3))\n",
    "```\n",
    "what do you expect will be printed? \n",
    "\n",
    "1. 1234\n",
    "2. one2three4\n",
    "3. 1239\n",
    "4. SyntaxError\n",
    "\n",
    "What is actually printed? What rule do you think Python is following?\n"
   ]
  },
  {
   "cell_type": "code",
   "execution_count": null,
   "metadata": {},
   "outputs": [],
   "source": []
  },
  {
   "cell_type": "markdown",
   "metadata": {},
   "source": [
    "Given that, which of the following does this code:\n",
    "```\n",
    "def func(a, b=3, c=6):\n",
    "    print(\n",
    "        'a: ', a, \n",
    "        'b: ', b, \n",
    "        'c:', c)\n",
    "\n",
    "func(-1, 2)\n",
    "```\n",
    "display when run?\n",
    "\n",
    "```\n",
    "a: b: 3 c: 6\n",
    "a: -1 b: 3 c: 6\n",
    "a: -1 b: 2 c: 6\n",
    "a: b: -1 c: 2\n",
    "```"
   ]
  },
  {
   "cell_type": "code",
   "execution_count": null,
   "metadata": {},
   "outputs": [],
   "source": []
  },
  {
   "cell_type": "markdown",
   "metadata": {},
   "source": [
    "### The Old Switcheroo\n",
    "Consider this code:\n",
    "```\n",
    "a = 3\n",
    "b = 7\n",
    "\n",
    "def swap(a, b):\n",
    "    temp = a\n",
    "    a = b\n",
    "    b = temp\n",
    "\n",
    "swap(a, b)\n",
    "\n",
    "print('a:', a, 'b:', b)\n",
    "```\n",
    "Which of the following would be printed if you were to run this code? Why did you pick this answer?\n",
    "```\n",
    "a:7 b:3\n",
    "a:3 b:7\n",
    "a:3 b:3\n",
    "a:7 b:7\n",
    "```\n"
   ]
  },
  {
   "cell_type": "markdown",
   "metadata": {},
   "source": [
    "### Readable Code\n",
    "Revise a function you wrote for one of the previous exercises to try to make the code more readable. Then, collaborate with one of your neighbours to critique each other's functions and discuss how your function implementations could be further improved to make them more readable."
   ]
  },
  {
   "cell_type": "markdown",
   "metadata": {},
   "source": [
    "## Key Points\n",
    "- Define a function using `def function_name(parameter):`\n",
    "- The body of a function must be indented\n",
    "- Call a function using `function_name(value)`\n",
    "- Numbers are stored as integers or floating-point numbers\n",
    "- Variables defined within a function can only be seen and used within the body of the function\n",
    "- If a variable is not defined within the function it is used, Python looks for a definition before the function call\n",
    "- Use `help(thing)` to view help for something\n",
    "- Put docstrings in functions to provide help for that function\n",
    "- Specify default values for parameters when defining a function using name=value in the parameter list\n",
    "- Parameters can be passed by matching based on name, by position, or by omitting them (in which case the default value is used)\n",
    "- Put code whose parameters change frequently in a function, then call it with different parameter values to customise its behaviour"
   ]
  },
  {
   "cell_type": "markdown",
   "metadata": {},
   "source": [
    "### Save, and version control your changes\n",
    "\n",
    "- save your work: `File -> Save`\n",
    "- add all your changes to your local repository: `Terminal -> git add .`\n",
    "- commit your updates a new Git version:  `Terminal -> git commit -m \"End of Episode 6\"`\n",
    "- push your latest commits to GitHub: `Terminal -> git push`"
   ]
  }
 ],
 "metadata": {
  "kernelspec": {
   "display_name": "Python 3",
   "language": "python",
   "name": "python3"
  },
  "language_info": {
   "codemirror_mode": {
    "name": "ipython",
    "version": 3
   },
   "file_extension": ".py",
   "mimetype": "text/x-python",
   "name": "python",
   "nbconvert_exporter": "python",
   "pygments_lexer": "ipython3",
   "version": "3.7.9"
  }
 },
 "nbformat": 4,
 "nbformat_minor": 4
}
